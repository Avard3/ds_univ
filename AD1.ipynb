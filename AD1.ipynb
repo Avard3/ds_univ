{
 "cells": [
  {
   "cell_type": "code",
   "execution_count": 1,
   "metadata": {},
   "outputs": [],
   "source": [
    "import pandas as pd\n",
    "import urllib\n",
    "from datetime import datetime\n",
    "\n",
    "\n",
    "PATH = r'/Users/uuriyzhuribeda/Documents/ds/AD1'"
   ]
  },
  {
   "cell_type": "code",
   "execution_count": 2,
   "metadata": {},
   "outputs": [],
   "source": [
    "def get_data(n):\n",
    "    now = datetime.now()\n",
    "    dt = now.strftime(\"%d-%m-%Y_%H-%M\")\n",
    "    filename = 'vhi_id_{}_{}.csv'.format(n, dt)\n",
    "\n",
    "    url='https://www.star.nesdis.noaa.gov/smcd/emb/vci/VH/get_TS_admin.php?country=UKR&provinceID={}&year1=1981&year2=2021&type=Mean'.format(n)\n",
    "\n",
    "    vhi_url = urllib.request.urlopen(url)\n",
    "    \n",
    "    out=open(filename , 'wb')\n",
    "    out.write(vhi_url.read())\n",
    "    out.close()\n",
    "    \n",
    "    print(\"File {} is ready\".format(n))"
   ]
  },
  {
   "cell_type": "code",
   "execution_count": 3,
   "metadata": {},
   "outputs": [
    {
     "name": "stdout",
     "output_type": "stream",
     "text": [
      "File 1 is ready\n"
     ]
    }
   ],
   "source": [
    "get_data(1)"
   ]
  },
  {
   "cell_type": "code",
   "execution_count": 4,
   "metadata": {},
   "outputs": [],
   "source": [
    "def get_data_all():\n",
    "    n = 1\n",
    "    #indexes of the areas\n",
    "    while n < 28:\n",
    "        get_data(n)\n",
    "        n = n + 1"
   ]
  },
  {
   "cell_type": "code",
   "execution_count": 5,
   "metadata": {},
   "outputs": [],
   "source": [
    "import glob\n",
    "\n",
    "def dataframe(PATH):\n",
    "    headers = ['year', 'week', 'smn', 'smt', 'vci', 'tci', 'vhi', 'empty']\n",
    "    #column names that are needed\n",
    "    headers_active = ['year', 'week', 'smn', 'smt', 'vci', 'tci', 'vhi']\n",
    "    #looking for files in current dir\n",
    "    all_files = glob.glob(PATH + \"/vhi_id*.csv\")\n",
    "    li = []\n",
    "    i = 1\n",
    "    for filename in all_files:\n",
    "        df = pd.read_csv(filename, index_col = None, header = 1, names = headers, usecols = headers_active)\n",
    "        # data-cleaning block\n",
    "        #drop rows which have -1 in vhi column\n",
    "        df = df.drop(df.loc[df['vhi'] == -1].index)\n",
    "        #drop rows with na\n",
    "        df = df.dropna()\n",
    "        #adding index in order to find needed area in dataset\n",
    "        df['area'] = i\n",
    "        #adding data from file to list\n",
    "        li.append(df)\n",
    "        #counter\n",
    "        i = i + 1\n",
    "        \n",
    "        \n",
    "    \n",
    "    #stack tables\n",
    "    frame = pd.concat(li, axis = 0, ignore_index = True) \n",
    "    return frame"
   ]
  },
  {
   "cell_type": "code",
   "execution_count": 6,
   "metadata": {},
   "outputs": [],
   "source": [
    "def change_index(frame):\n",
    "    old = 1\n",
    "    #list of areas from the task\n",
    "    areas_list = [\"22\", \"24\", \"23\", \"25\", \"3\", \"4\", \"8\", \"19\", \"20\", \"21\", \"9\", \"26\", \"10\", \"11\", \"12\", \"13\", \"14\", \"15\", \"16\", \"27\", \"17\", \"18\", \"6\", \"1\", \"2\", \"7\", \"5\", \"eof\"]\n",
    "    #parsing the list above\n",
    "    for new in areas_list:\n",
    "        frame[\"area\"].replace({old:new}, inplace = True)\n",
    "        old = old + 1\n",
    "    #creating csv file from the current dataframe\n",
    "    frame.to_csv('vhi_full.csv')\n",
    "    print(\"Indexes were changed\")"
   ]
  },
  {
   "cell_type": "code",
   "execution_count": 7,
   "metadata": {},
   "outputs": [],
   "source": [
    "def area_vhi(frame, area, year):\n",
    "    #list for vhi values\n",
    "    vhi_list = []\n",
    "    \n",
    "    #creating new frame with needed data\n",
    "    frame_area = frame[(frame[\"area\"] == area) & (frame[\"year\"] == year)]\n",
    "    #appending cells data to the list\n",
    "    for record in frame_area[\"vhi\"]:\n",
    "        vhi_list.append(record)\n",
    "    \n",
    "    answ = input(\"Do you want to see the whole table for that year?(y)\")\n",
    "    if answ == \"y\" or answ == \"Y\":\n",
    "        print(frame_area)\n",
    "    \n",
    "    print(\"Vhi list:\", vhi_list)\n",
    "    \n",
    "    print(\"Max value is: {}\".format(frame_area[\"vhi\"].max()))\n",
    "    print(\"Min value is: {}\".format(frame_area[\"vhi\"].min()))"
   ]
  },
  {
   "cell_type": "code",
   "execution_count": 8,
   "metadata": {},
   "outputs": [],
   "source": [
    "def drought(area, perc, _type):\n",
    "    #creating new frame with needed data\n",
    "    frame_vhi = frame[frame[\"area\"] == area]\n",
    "    years = []\n",
    "    bad_years = []\n",
    "    \n",
    "    #list of years actually used in research\n",
    "    for record in frame_vhi[\"year\"]:\n",
    "        if record not in years:\n",
    "            years.append(record)\n",
    "    \n",
    "    #getting info for each of the years from the list above\n",
    "    for year in years:\n",
    "        bad_weeks = 0 \n",
    "        frame_years = frame_vhi[frame[\"year\"] == year]\n",
    "        #getting the quantity of weeks as data-cleaning block may change it\n",
    "        weeks = len(frame_years)\n",
    "        \n",
    "        #checking every single cell from vhi column\n",
    "        for vhi_data in frame_years[\"vhi\"]:\n",
    "            #adding +1 to bad_weeks when we find such a week\n",
    "            if vhi_data < _type:\n",
    "                bad_weeks += 1\n",
    "        #steps\n",
    "        print(year, \"-\", bad_weeks, \"-\", weeks)    \n",
    "        #% for each year\n",
    "        percentage = (bad_weeks/weeks)*100\n",
    "        print(\"% of the area:\" , percentage)\n",
    "        if percentage > perc:\n",
    "            bad_years.append(year)\n",
    "    print(\"Bad years are:\", bad_years)"
   ]
  },
  {
   "cell_type": "code",
   "execution_count": 9,
   "metadata": {
    "scrolled": true
   },
   "outputs": [
    {
     "name": "stdout",
     "output_type": "stream",
     "text": [
      "File 1 is ready\n",
      "File 2 is ready\n",
      "File 3 is ready\n",
      "File 4 is ready\n",
      "File 5 is ready\n",
      "File 6 is ready\n",
      "File 7 is ready\n",
      "File 8 is ready\n",
      "File 9 is ready\n",
      "File 10 is ready\n",
      "File 11 is ready\n",
      "File 12 is ready\n",
      "File 13 is ready\n",
      "File 14 is ready\n",
      "File 15 is ready\n",
      "File 16 is ready\n",
      "File 17 is ready\n",
      "File 18 is ready\n",
      "File 19 is ready\n",
      "File 20 is ready\n",
      "File 21 is ready\n",
      "File 22 is ready\n",
      "File 23 is ready\n",
      "File 24 is ready\n",
      "File 25 is ready\n",
      "File 26 is ready\n",
      "File 27 is ready\n"
     ]
    }
   ],
   "source": [
    "get_data_all()"
   ]
  },
  {
   "cell_type": "code",
   "execution_count": 26,
   "metadata": {
    "scrolled": true
   },
   "outputs": [],
   "source": [
    "frame = dataframe(PATH)"
   ]
  },
  {
   "cell_type": "code",
   "execution_count": 27,
   "metadata": {},
   "outputs": [
    {
     "name": "stdout",
     "output_type": "stream",
     "text": [
      "Indexes were changed\n"
     ]
    }
   ],
   "source": [
    "change_index(frame)"
   ]
  },
  {
   "cell_type": "code",
   "execution_count": 28,
   "metadata": {},
   "outputs": [
    {
     "name": "stdout",
     "output_type": "stream",
     "text": [
      "Do you want to see the whole table for that year?(y)y\n",
      "       Unnamed: 0  year  week    smn     smt    vci    tci    vhi  area\n",
      "49289       49289  2002   1.0  0.074  258.60  28.89  66.40  47.64     2\n",
      "49290       49290  2002   2.0  0.068  259.67  24.13  64.98  44.55     2\n",
      "49291       49291  2002   3.0  0.073  262.05  26.40  56.33  41.37     2\n",
      "49292       49292  2002   4.0  0.081  264.56  30.91  46.36  38.63     2\n",
      "49293       49293  2002   5.0  0.094  267.20  37.82  37.58  37.70     2\n",
      "49294       49294  2002   6.0  0.111  269.51  47.00  33.83  40.42     2\n",
      "49295       49295  2002   7.0  0.134  271.76  59.25  31.47  45.36     2\n",
      "49296       49296  2002   8.0  0.155  273.91  69.18  28.11  48.65     2\n",
      "49297       49297  2002   9.0  0.177  276.26  78.21  24.74  51.48     2\n",
      "49298       49298  2002  10.0  0.197  278.48  82.93  24.44  53.68     2\n",
      "49299       49299  2002  11.0  0.219  280.69  84.07  25.97  55.02     2\n",
      "49300       49300  2002  12.0  0.238  282.47  82.25  27.87  55.06     2\n",
      "49301       49301  2002  13.0  0.255  283.68  77.78  27.26  52.52     2\n",
      "49302       49302  2002  14.0  0.270  284.66  71.13  28.23  49.68     2\n",
      "49303       49303  2002  15.0  0.285  285.47  65.90  30.08  47.99     2\n",
      "49304       49304  2002  16.0  0.308  286.49  62.86  32.02  47.44     2\n",
      "49305       49305  2002  17.0  0.344  287.95  63.17  32.35  47.76     2\n",
      "49306       49306  2002  18.0  0.386  289.27  66.80  31.75  49.28     2\n",
      "49307       49307  2002  19.0  0.418  290.00  67.32  32.22  49.77     2\n",
      "49308       49308  2002  20.0  0.442  290.40  66.73  34.15  50.44     2\n",
      "49309       49309  2002  21.0  0.460  290.58  64.45  39.01  51.73     2\n",
      "49310       49310  2002  22.0  0.478  291.07  64.20  40.17  52.19     2\n",
      "49311       49311  2002  23.0  0.497  291.51  67.75  40.64  54.20     2\n",
      "49312       49312  2002  24.0  0.520  292.28  75.08  36.80  55.94     2\n",
      "49313       49313  2002  25.0  0.532  293.02  78.35  32.14  55.25     2\n",
      "49314       49314  2002  26.0  0.533  293.50  76.53  31.18  53.85     2\n",
      "49315       49315  2002  27.0  0.527  294.01  71.67  31.47  51.57     2\n",
      "49316       49316  2002  28.0  0.513  293.86  65.78  37.99  51.89     2\n",
      "49317       49317  2002  29.0  0.492  293.45  57.37  45.61  51.49     2\n",
      "49318       49318  2002  30.0  0.475  293.13  50.38  51.18  50.78     2\n",
      "49319       49319  2002  31.0  0.459  292.71  44.32  56.57  50.44     2\n",
      "49320       49320  2002  32.0  0.452  292.35  41.84  60.70  51.27     2\n",
      "49321       49321  2002  33.0  0.452  292.12  42.72  60.64  51.68     2\n",
      "49322       49322  2002  34.0  0.437  291.23  37.54  65.12  51.33     2\n",
      "49323       49323  2002  35.0  0.414  289.80  33.36  71.12  52.24     2\n",
      "49324       49324  2002  36.0  0.391  288.01  33.41  74.78  54.09     2\n",
      "49325       49325  2002  37.0  0.365  285.67  32.01  81.79  56.90     2\n",
      "49326       49326  2002  38.0  0.330  283.25  24.92  91.70  58.31     2\n",
      "49327       49327  2002  39.0  0.283  280.73  14.29  97.68  55.98     2\n",
      "49328       49328  2002  40.0  0.247  278.70   9.40  97.88  53.64     2\n",
      "49329       49329  2002  41.0  0.219  276.79   9.10  97.01  53.06     2\n",
      "49330       49330  2002  42.0  0.194  274.99   9.85  96.20  53.02     2\n",
      "49331       49331  2002  43.0  0.169  273.15  10.47  94.25  52.36     2\n",
      "49332       49332  2002  44.0  0.148  271.69  11.14  89.57  50.35     2\n",
      "49333       49333  2002  45.0  0.143  270.97  16.49  75.35  45.92     2\n",
      "49334       49334  2002  46.0  0.148  270.38  30.09  59.18  44.64     2\n",
      "49335       49335  2002  47.0  0.142  268.72  38.79  54.34  46.57     2\n",
      "49336       49336  2002  48.0  0.139  267.54  48.07  50.28  49.17     2\n",
      "49337       49337  2002  49.0  0.136  266.09  56.99  48.43  52.71     2\n",
      "49338       49338  2002  50.0  0.130  264.42  63.00  47.47  55.24     2\n",
      "49339       49339  2002  51.0  0.117  262.58  61.64  48.72  55.18     2\n",
      "49340       49340  2002  52.0  0.100  261.35  52.99  51.69  52.34     2\n",
      "Vhi list: [47.64, 44.55, 41.37, 38.63, 37.7, 40.42, 45.36, 48.65, 51.48, 53.68, 55.02, 55.06, 52.52, 49.68, 47.99, 47.44, 47.76, 49.28, 49.77, 50.44, 51.73, 52.19, 54.2, 55.94, 55.25, 53.85, 51.57, 51.89, 51.49, 50.78, 50.44, 51.27, 51.68, 51.33, 52.24, 54.09, 56.9, 58.31, 55.98, 53.64, 53.06, 53.02, 52.36, 50.35, 45.92, 44.64, 46.57, 49.17, 52.71, 55.24, 55.18, 52.34]\n",
      "Max value is: 58.31\n",
      "Min value is: 37.7\n"
     ]
    }
   ],
   "source": [
    "area_vhi(testdf, 2, 2002)"
   ]
  },
  {
   "cell_type": "code",
   "execution_count": null,
   "metadata": {},
   "outputs": [],
   "source": []
  }
 ],
 "metadata": {
  "kernelspec": {
   "display_name": "ds",
   "language": "python",
   "name": "ds"
  },
  "language_info": {
   "codemirror_mode": {
    "name": "ipython",
    "version": 3
   },
   "file_extension": ".py",
   "mimetype": "text/x-python",
   "name": "python",
   "nbconvert_exporter": "python",
   "pygments_lexer": "ipython3",
   "version": "3.7.10"
  }
 },
 "nbformat": 4,
 "nbformat_minor": 4
}
